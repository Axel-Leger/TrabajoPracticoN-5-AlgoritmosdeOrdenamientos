{
 "cells": [
  {
   "cell_type": "markdown",
   "id": "8167859e",
   "metadata": {},
   "source": [
    "\n",
    "## Algoritmo Heap Sort (Ordenamiento por Montículo)\n",
    "\n",
    "Heap Sort es un algoritmo de ordenamiento que utiliza una estructura de datos llamada montículo (heap). Un montículo es un árbol binario que satisface la propiedad de montículo: en un montículo máximo, cada nodo es mayor o igual que sus hijos.\n",
    "\n",
    "### Funcionamiento:\n",
    "1. Se construye un montículo máximo a partir del arreglo desordenado.\n",
    "2. Se intercambia el primer elemento (el mayor) con el último.\n",
    "3. Se reduce el tamaño del heap en uno y se vuelve a aplicar `heapify` para restaurar la propiedad del montículo.\n",
    "4. El proceso se repite hasta que todo el arreglo esté ordenado.\n",
    "\n",
    "Este algoritmo tiene una complejidad de tiempo de **O(n log n)** en el peor de los casos.\n"
   ]
  },
  {
   "cell_type": "markdown",
   "id": "fd346c80",
   "metadata": {},
   "source": [
    "## Algoritmo Heap Sort (Ordenamiento por Montículo)\n",
    "\n",
    "Heap Sort es un algoritmo de ordenamiento que utiliza una estructura de datos llamada montículo (heap). Un montículo es un árbol binario que satisface la propiedad de montículo: en un montículo máximo, cada nodo es mayor o igual que sus hijos.\n",
    "\n",
    "### Funcionamiento:\n",
    "1. Se construye un montículo máximo a partir del arreglo desordenado.\n",
    "2. Se intercambia el primer elemento (el mayor) con el último.\n",
    "3. Se reduce el tamaño del heap en uno y se vuelve a aplicar `heapify` para restaurar la propiedad del montículo.\n",
    "4. El proceso se repite hasta que todo el arreglo esté ordenado."
   ]
  },
  {
   "cell_type": "markdown",
   "id": "39a201a2",
   "metadata": {},
   "source": [
    "## Algoritmo Heap Sort (Ordenamiento por Montículo)\n",
    "\n",
    "Heap Sort es un algoritmo de ordenamiento que utiliza una estructura de datos llamada montículo (heap). Un montículo es un árbol binario que satisface la propiedad de montículo: en un montículo máximo, cada nodo es mayor o igual que sus hijos.\n",
    "\n",
    "### Funcionamiento:\n",
    "1. Se construye un montículo máximo a partir del arreglo desordenado.\n",
    "2. Se intercambia el primer elemento (el mayor) con el último.\n",
    "3. Se reduce el tamaño del heap en uno y se vuelve a aplicar `heapify` para restaurar la propiedad del montículo.\n",
    "4. El proceso se repite hasta que todo el arreglo esté ordenado."
   ]
  },
  {
   "cell_type": "code",
   "execution_count": 12,
   "id": "3f95612f",
   "metadata": {},
   "outputs": [
    {
     "name": "stdout",
     "output_type": "stream",
     "text": [
      "Original: [4, 10, 3, 5, 1]\n",
      "Ordenada: [1, 3, 4, 5, 10]\n"
     ]
    }
   ],
   "source": [
    "def heap_sort(arr):\n",
    "    n = len(arr)\n",
    "\n",
    "    for i in range(n // 2 - 1, -1, -1):\n",
    "        heapify(arr, n, i)\n",
    "\n",
    "    for i in range(n - 1, 0, -1):\n",
    "        arr[0], arr[i] = arr[i], arr[0]\n",
    "        heapify(arr, i, 0)\n",
    "\n",
    "    return arr\n",
    "\n",
    "arr = [4, 10, 3, 5, 1]\n",
    "print(\"Original:\", arr)\n",
    "heap_sort(arr)\n",
    "print(\"Ordenada:\", arr)\n"
   ]
  },
  {
   "cell_type": "code",
   "execution_count": 13,
   "id": "a6861c68",
   "metadata": {},
   "outputs": [
    {
     "name": "stdout",
     "output_type": "stream",
     "text": [
      "Tiempo de Heap Sort: 0.0022580623626708984 segundos\n",
      "Tiempo de Bubble Sort: 0.01998448371887207 segundos\n"
     ]
    }
   ],
   "source": [
    "\n",
    "import time\n",
    "import random\n",
    "\n",
    "def bubble_sort(arr):\n",
    "    n = len(arr)\n",
    "    for i in range(n):\n",
    "        for j in range(0, n - i - 1):\n",
    "            if arr[j] > arr[j + 1]:\n",
    "                arr[j], arr[j + 1] = arr[j + 1], arr[j]\n",
    "    return arr\n",
    "\n",
    "lista = random.sample(range(10000), 500)\n",
    "lista_heap = lista.copy()\n",
    "lista_bubble = lista.copy()\n",
    "\n",
    "inicio_heap = time.time()\n",
    "heap_sort(lista_heap)\n",
    "fin_heap = time.time()\n",
    "\n",
    "inicio_bubble = time.time()\n",
    "bubble_sort(lista_bubble)\n",
    "fin_bubble = time.time()\n",
    "\n",
    "print(\"Tiempo de Heap Sort:\", fin_heap - inicio_heap, \"segundos\")\n",
    "print(\"Tiempo de Bubble Sort:\", fin_bubble - inicio_bubble, \"segundos\")\n"
   ]
  },
  {
   "cell_type": "markdown",
   "id": "89b6b576",
   "metadata": {},
   "source": [
    "\n",
    "## Conclusión\n",
    "\n",
    "- **¿Cuál fue más rápido?**  \n",
    "    Si le soy sincero no noto mucho la diferencia\n",
    "\n",
    "- **¿Te sorprendió el resultado?**  \n",
    "     Sinceramente no tanto porque los dos tienen casi los mismo tiempo o son tiempos que uno ni nota que espera, almenos con operacion faciles como estas\n",
    "\n",
    "- **¿Te gustó el algoritmo que elegiste?**\n",
    "    La verdad es que eleji este porque es el que le entendi mas o menos, no soy muy entusiasta de este tipo de ejercicos y por eso me cuesta entenderlos cuando damos algo nuevo \n"
   ]
  }
 ],
 "metadata": {
  "kernelspec": {
   "display_name": "Python 3 (ipykernel)",
   "language": "python",
   "name": "python3"
  },
  "language_info": {
   "codemirror_mode": {
    "name": "ipython",
    "version": 3
   },
   "file_extension": ".py",
   "mimetype": "text/x-python",
   "name": "python",
   "nbconvert_exporter": "python",
   "pygments_lexer": "ipython3",
   "version": "3.13.2"
  }
 },
 "nbformat": 4,
 "nbformat_minor": 5
}
